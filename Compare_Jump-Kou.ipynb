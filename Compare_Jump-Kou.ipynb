{
 "cells": [
  {
   "cell_type": "code",
   "execution_count": 1,
   "metadata": {
    "collapsed": true
   },
   "outputs": [],
   "source": [
    "def Phi1(T,AF,Q,Delta,lambda_J): \n",
    "  \n",
    "    ###############################################################################\n",
    "    #                           PARAMETER INPUT                                   #\n",
    "    ###############################################################################\n",
    "    Stock1 = Stock(100,0.087**2,AF,0.06,0.14,3.46,0.006704,T,-0.82)\n",
    "    Stock2 = Stock(100,0.087**2,AF,0.03,0.14,3.46,0.002852,T,-0.82)\n",
    "    Regime = Regime2(Q);\n",
    "    #S0, y0, AF, r, sigma, a, b, N, rho, mu,sigma_J,lambda_\n",
    "    Jump1 = Jump_Kou(100,0.087**2,AF,0.06,0.14,3.46,0.006704,T,-0.82,25,50,0.2,0.)\n",
    "    Jump2 = Jump_Kou(100,0.087**2,AF,0.03,0.14,3.46,0.002852,T,-0.82,25,50,0.2,lambda_J)\n",
    "    #####################################################################################\n",
    "    # ###############################Numerical Integration########################\n",
    "    n = 10 # time step of integration\n",
    "    X = np.linspace(T-Delta,T,n+1)\n",
    "    phi1_1_2j = [];phi1_1_1j = [];phi1_1_0j = [];\n",
    "    phi1_2_2j = [];phi1_2_1j = [];phi1_2_0j = []; \n",
    "    \n",
    "    for i in range(len(X)):\n",
    "        x1 = Jump1.L(-2j,X[i]); x2=Jump1.L(-1j,X[i]);x3=Jump1.L(0,X[i]);\n",
    "        phi1_1_2j.append(x1); phi1_1_1j.append(x2); phi1_1_0j.append(x3);\n",
    "        y1 = Jump2.L(-2j,X[i]); y2=Jump2.L(-1j,X[i]);y3=Jump2.L(0,X[i]);\n",
    "        phi1_2_2j.append(y1); phi1_2_1j.append(y2);phi1_2_0j.append(y3); \n",
    "        \n",
    "        \n",
    "    phI1_1_2j = np.trapz(phi1_1_2j,dx=Delta/n);phI1_2_2j = np.trapz(phi1_2_2j,dx=Delta/n);\n",
    "    phI1_1_1j = np.trapz(phi1_1_1j,dx=Delta/n);phI1_2_1j = np.trapz(phi1_2_1j,dx=Delta/n);\n",
    "    phI1_1_0j = np.trapz(phi1_1_0j,dx=Delta/n);phI1_2_0j = np.trapz(phi1_2_0j,dx=Delta/n);\n",
    "  \n",
    "    #################################Diagonal Matrix#########################################\n",
    "    phi1_Matrix_2j = np.diag(np.array([phI1_1_2j,phI1_2_2j]));\n",
    "    phi1_Matrix_1j = np.diag(np.array([phI1_1_1j,phI1_2_1j]));\n",
    "    phi1_Matrix_0j = np.diag(np.array([phI1_1_0j,phI1_2_0j]));\n",
    "    \n",
    "    #######################Phi1_characteristic function#####################################\n",
    "    Phi1_2j = Regime.character(phi1_Matrix_2j,T-Delta,T);\n",
    "    Phi1_1j = Regime.character(phi1_Matrix_1j,T-Delta,T);\n",
    "    Phi1_0j = Regime.character(phi1_Matrix_0j,T-Delta,T);\n",
    "    return Phi1_2j, Phi1_1j, Phi1_0j"
   ]
  },
  {
   "cell_type": "code",
   "execution_count": 2,
   "metadata": {
    "collapsed": true
   },
   "outputs": [],
   "source": [
    "def Phi2(T,AF,Q,Delta):\n",
    "    \n",
    "    ###############################################################################\n",
    "    #                           PARAMETER INPUT                                   #\n",
    "    ###############################################################################\n",
    "    #\n",
    "    Stock1 = Stock(100,0.087**2,AF,0.06,0.14,3.46,0.006704,T,-0.82)# S0, y0, AF, r, sigma, a, b, N, rho\n",
    "    Stock2 = Stock(100,0.087**2,AF,0.03,0.14,3.46,0.002852,T,-0.82)\n",
    "    Regime = Regime2(Q);\n",
    "    #\n",
    "    ###############################################################################\n",
    "    \n",
    "    n = 10 # time step of integration\n",
    "    X = np.linspace(0,T-Delta,n+1)\n",
    "    phi2_1_2j = [];phi2_2_2j = [];\n",
    "    \n",
    "    for i in range(len(X)):\n",
    "        H1 = Stock1.H(X[i]);H2 = Stock2.H(X[i]);\n",
    "        x = Stock1.a*Stock1.b*H1;y = Stock2.a*Stock2.b*H2;\n",
    "        phi2_1_2j.append(x);phi2_2_2j.append(y);\n",
    "        #print(H1,X[i],T-Delta)\n",
    "        \n",
    "    phI2_1_2j = np.trapz(phi2_1_2j,dx=(T-Delta)/n);phI2_2_2j = np.trapz(phi2_2_2j,dx=(T-Delta)/n);\n",
    "    phi2_Matrix = np.diag(np.array([phI2_1_2j,phI2_2_2j]))\n",
    "    Phi2 = Regime.character(phi2_Matrix,0,T-Delta)\n",
    "    return Phi2,Stock1.H(0)"
   ]
  },
  {
   "cell_type": "code",
   "execution_count": 3,
   "metadata": {
    "collapsed": true
   },
   "outputs": [],
   "source": [
    "# def discreet(AF,lambda_J):\n",
    "    \n",
    "#     Q = np.array([[-0.1,0.1],[0.4,-0.4]])\n",
    "#     Regime = Regime2(Q);\n",
    "#     Kvar = []\n",
    "#     U = np.array([0,0])#initialize\n",
    "#     T = 1\n",
    "    \n",
    "    \n",
    "#     for t in AF:\n",
    "#         Delta = 1/t\n",
    "#         for k in range(0,t*T):\n",
    "#             t_k = (k+1)*Delta\n",
    "#             Stock1 = Stock(100,0.087**2,t,0.06,0.14,3.46,0.006704,t_k,-0.82)# S0, y0, AF, r, sigma, a, b, T, rho\n",
    "#             Stock2 = Stock(100,0.087**2,t,0.03,0.14,3.46,0.002852,t_k,-0.82)\n",
    "#             Jump1 = Jump_Merton(100,0.087**2,t,0.06,0.14,3.46,0.006704,t_k,-0.82,0.05,0.086,0.)\n",
    "#             Jump2 = Jump_Merton(100,0.087**2,t,0.03,0.14,3.46,0.002852,t_k,-0.82,0.06,0.086,lambda_J)\n",
    "#             R = np.diag([np.exp(Stock1.r*Delta),np.exp(Stock2.r*Delta)])# matrix of interest rate\n",
    "#             Phi1_2j,Phi1_1j,Phi1_0j = Phi1(t_k,t,Q,Delta,lambda_J) \n",
    "#             Phi2_,H1 = Phi2(t_k,t,Q,Delta)\n",
    "#             if t_k == Delta:\n",
    "#                 M = Stock1.M(-2j,0)\n",
    "#                 uk = Phi1_2j[1]*np.exp(M*Stock1.y0)-2*Phi1_1j[1]+Phi1_0j[1]\n",
    "#                 Uk = uk\n",
    "#             else:\n",
    "#                 uk = np.multiply(Phi1_2j[1],Phi2_[1])*np.exp(H1*Stock1.y0)-2*Phi1_1j[1]+Phi1_0j[1]\n",
    "#                 Uk = uk\n",
    "            \n",
    "#             U = U+Uk\n",
    "#             K = (U/T)*10000\n",
    "            \n",
    "#         Kvar.append(K)\n",
    "     \n",
    "#     return Kvar\n"
   ]
  },
  {
   "cell_type": "code",
   "execution_count": 4,
   "metadata": {
    "collapsed": true
   },
   "outputs": [],
   "source": [
    "def discreet(AF,Lambda):\n",
    "    \n",
    "    \n",
    "    Kvar = []\n",
    "    \n",
    "    for t in AF:\n",
    "        K = regime_VS(t,Lambda)\n",
    "        Kvar.append(K)\n",
    "     \n",
    "    return(Kvar)\n"
   ]
  },
  {
   "cell_type": "code",
   "execution_count": 5,
   "metadata": {
    "collapsed": true
   },
   "outputs": [],
   "source": [
    "def regime_VS(AF,Lambda):\n",
    "    \n",
    "    ###############################################################################\n",
    "    #                           PARAMETER INPUT                                   #\n",
    "    ###############################################################################\n",
    "   \n",
    "    Delta = 1/AF\n",
    "    Q = np.array([[-0.1,0.1],[0.4,-0.4]])#transition matrix\n",
    "    #Stock1 = Stock(100,0.087**2,252,0.06,0.14,3.46,0.006704,1,-0.82)# S0, y0, AF, r, sigma, a, b, T, rho\n",
    "    #Stock2 = Stock(100,0.087**2,252,0.03,0.14,3.46,0.002852,1,-0.82)\n",
    "    #S0, y0, AF, r, sigma, a, b, N, rho, mu,sigma_J,lambda_\n",
    "    #Jump1 = Jump_Merton(100,0.087**2,252,0.06,0.14,3.46,0.006704,1,-0.82,0.05,0.086,0.)\n",
    "    #Jump2 = Jump_Merton(100,0.087**2,252,0.03,0.14,3.46,0.002852,1,-0.82,0.06,0.086,0.3)\n",
    "    Regime = Regime2(Q);\n",
    "    ################################################################################\n",
    "    \n",
    "    U = np.array([0,0])#initialize\n",
    "    T = 1\n",
    "    for k in range(0,AF*T):\n",
    "        t_k = (k+1)*Delta\n",
    "        Stock1 = Stock(100,0.087**2,AF,0.06,0.14,3.46,0.006704,t_k,-0.82)# S0, y0, AF, r, sigma, a, b, T, rho\n",
    "        Stock2 = Stock(100,0.087**2,AF,0.03,0.14,3.46,0.002852,t_k,-0.82)\n",
    "        Jump1 = Jump_Kou(100,0.087**2,AF,0.06,0.14,3.46,0.006704,t_k,-0.82,25,50,0.2,0.)\n",
    "        Jump2 = Jump_Kou(100,0.087**2,AF,0.03,0.14,3.46,0.002852,t_k,-0.82,25,50,0.2,0.3)\n",
    "        R = np.diag([np.exp(Stock1.r*Delta),np.exp(Stock2.r*Delta)])# matrix of interest rate\n",
    "        Phi1_2j,Phi1_1j,Phi1_0j = Phi1(t_k,AF,Q,Delta,Lambda) \n",
    "        Phi2_,H1 = Phi2(t_k,AF,Q,Delta)\n",
    "        if t_k == Delta:\n",
    "            M = Stock1.M(-2j,0)\n",
    "            uk = Phi1_2j[1]*np.exp(M*Stock1.y0)-2*Phi1_1j[1]+Phi1_0j[1]\n",
    "            #Uk = np.matmul(R,uk)\n",
    "            Uk = uk\n",
    "        else:\n",
    "            uk = np.multiply(Phi1_2j[1],Phi2_[1])*np.exp(H1*Stock1.y0)-2*Phi1_1j[1]+Phi1_0j[1]\n",
    "            #Uk = np.matmul(R,uk)\n",
    "            Uk = uk\n",
    "            \n",
    "        U = U+Uk\n",
    "        \n",
    "        \n",
    "        \n",
    "       \n",
    "    K = (U/T)*10000\n",
    "    return K"
   ]
  },
  {
   "cell_type": "code",
   "execution_count": 6,
   "metadata": {
    "collapsed": true
   },
   "outputs": [],
   "source": [
    "\n",
    "def Continuous(lambda_J):\n",
    "    \n",
    "    ###############################################################################\n",
    "    #                           PARAMETER INPUT                                   #\n",
    "    ###############################################################################\n",
    "    \n",
    "    Stock1 = Stock(100,0.087**2,252,0.06,0.14,3.46,0.006704,1,-0.82)# S0, y0, AF, r, sigma, a, b, T, rho\n",
    "    Stock2 = Stock(100,0.087**2,252,0.03,0.14,3.46,0.002852,1,-0.82)\n",
    "    #S0, y0, AF, r, sigma, a, b, N, rho, mu,sigma_J,lambda_\n",
    "    Jump1 = Jump_Kou(100,0.087**2,252,0.06,0.14,3.46,0.006704,1,-0.82,25,50,0.2,0.)\n",
    "    Jump2 = Jump_Kou(100,0.087**2,252,0.03,0.14,3.46,0.002852,1,-0.82,25,50,0.2,lambda_J)\n",
    "    Q = np.array([[-0.1,0.1],[0.4,-0.4]])\n",
    "    Regime = Regime2(Q);T=1;\n",
    "\n",
    "\n",
    "    n = 10 # time step of integration\n",
    "    X = np.linspace(0,1,n+1)\n",
    "    Phi_Matrix=[]\n",
    "    E = np.ones(Q.ndim)                     \n",
    "    for i in range(len(X)):\n",
    "        v1 = Stock1.mean(X[i]);v2 = Stock2.mean(X[i])\n",
    "        phi = np.diag(np.array([v1,v2]))\n",
    "        pphi = np.matmul(linalg.expm(Q.transpose()*(X[i])),phi)\n",
    "        Phi = np.matmul(E,pphi)\n",
    "        Phi_Matrix.append(Phi)\n",
    "        #print(Phi)\n",
    "        \n",
    "    \n",
    "    a = list(zip(*Phi_Matrix))\n",
    "    #print(a)\n",
    "    V1 = np.trapz(a,dx=0.1);\n",
    "    j1 = Jump1.mean_com(); j2 = Jump2.mean_com();\n",
    "    V2 = np.diag(np.array([j1,j2]));\n",
    "    J = np.matmul(linalg.expm(Q.transpose()*T),V2);\n",
    "    Kvar = ((1-np.exp(-Stock1.a))/Stock1.a)*Stock1.y0+Stock1.a*V1+np.matmul(E,J);\n",
    "    #print(Stock1.a*V1)\n",
    "\n",
    "\n",
    "    return(Kvar*10000)"
   ]
  },
  {
   "cell_type": "code",
   "execution_count": 9,
   "metadata": {},
   "outputs": [
    {
     "data": {
      "text/plain": [
       "<Figure size 432x288 with 0 Axes>"
      ]
     },
     "metadata": {},
     "output_type": "display_data"
    },
    {
     "data": {
      "image/png": "[encoded data removed]",
      "text/plain": [
       "<Figure size 432x288 with 1 Axes>"
      ]
     },
     "metadata": {
      "needs_background": "light"
     },
     "output_type": "display_data"
    }
   ],
   "source": [
    "# final main()\n",
    "from VS_class2 import Stock, Regime2, Jump_Merton, Jump_Kou\n",
    "import matplotlib.pyplot as plt\n",
    "import numpy as np\n",
    "import math\n",
    "from scipy import linalg\n",
    "\n",
    "AF = range(5,201,5)\n",
    "X = np.linspace(5,200,40)\n",
    "lambda_J = np.array([0.0,0.1,0.2,0.3,0.4,0.5])\n",
    "K = []\n",
    "# calculate discrete sols based AF\n",
    "for k in lambda_J:\n",
    "    Kvar_d = discreet(AF,k)\n",
    "    K_d = list(zip(*Kvar_d))\n",
    "    K.append(K_d[1])\n",
    "\n",
    "\n",
    "# calculate continuous sols and copy to len(AF)\n",
    "# K = Continuous()\n",
    "# Kvar_c =  [K[:] for i in range(len(AF))]\n",
    "# K_c = list(zip(*Kvar_c))\n",
    "# graph and compare discrete and continuous sols\n",
    "fig = plt.figure()  # an empty figure with no axes\n",
    "\n",
    "fig, ax = plt.subplots(1)\n",
    "ax.plot(X, K[0], color='slateblue', marker='*', fillstyle='top',\\\n",
    "          linestyle='solid', linewidth=1,ms=5,label='$\\lambda=0$')\n",
    "# #ax.plot(X, K_c[0], color='green',label='Continuous Kvar without jump')\n",
    "ax.plot(X, K[1], color='darkblue', marker='o', fillstyle='top',linestyle='solid', \\\n",
    "         linewidth=1,ms=3,label='$\\lambda=0.1$')\n",
    "# #ax.plot(X, K_c[0], color='green',label='Continuous Kvar without jump')\n",
    "ax.plot(X, K[2], color='violet', marker='v', fillstyle='top',linestyle='solid', \\\n",
    "         linewidth=1,ms=3,label='$\\lambda=0.2$')\n",
    "ax.plot(X, K[3], color='blueviolet', marker='x', fillstyle='top',linestyle='solid', \\\n",
    "         linewidth=1,ms=3,label='$\\lambda=0.3$')\n",
    "ax.plot(X, K[4], color='mediumorchid', marker='D', fillstyle='top',linestyle='solid', \\\n",
    "         linewidth=1,ms=3,label='$\\lambda=0.4$')\n",
    "ax.plot(X, K[4], color='orchid', marker='1', fillstyle='top',linestyle='solid', \\\n",
    "         linewidth=1,ms=3,label='$\\lambda=0.5$')\n",
    "# #ax.plot(X, K_c[1], color='cyan',label='Continuous Kvar without jump')\n",
    "ax.set_xlim(5, 200)\n",
    "plt.xlabel('Observation Frequency',fontsize=13)\n",
    "plt.ylabel('Kvar',fontsize=13)\n",
    "ax.legend(fancybox=True, framealpha=0.5)\n",
    "\n",
    "# plt.title(\"Simple Plot\")\n",
    "\n",
    "plt.savefig('Compare_jump_kou.pdf', format='pdf', dpi=1000)\n",
    "\n",
    "# Outfile=open('Kvar2.txt','a+')\n",
    "# Outfile.write(str(K_d))\n",
    "# Outfile.close()"
   ]
  },
  {
   "cell_type": "code",
   "execution_count": null,
   "metadata": {
    "collapsed": true
   },
   "outputs": [],
   "source": [
    "\n",
    "  "
   ]
  },
  {
   "cell_type": "code",
   "execution_count": null,
   "metadata": {
    "collapsed": true
   },
   "outputs": [],
   "source": [
    "\n"
   ]
  },
  {
   "cell_type": "code",
   "execution_count": null,
   "metadata": {
    "collapsed": true
   },
   "outputs": [],
   "source": []
  },
  {
   "cell_type": "code",
   "execution_count": null,
   "metadata": {
    "collapsed": true
   },
   "outputs": [],
   "source": [
    "\n"
   ]
  },
  {
   "cell_type": "code",
   "execution_count": null,
   "metadata": {
    "collapsed": true
   },
   "outputs": [],
   "source": []
  }
 ],
 "metadata": {
  "kernelspec": {
   "display_name": "Python 3",
   "language": "python",
   "name": "python3"
  },
  "language_info": {
   "codemirror_mode": {
    "name": "ipython",
    "version": 3
   },
   "file_extension": ".py",
   "mimetype": "text/x-python",
   "name": "python",
   "nbconvert_exporter": "python",
   "pygments_lexer": "ipython3",
   "version": "3.7.3"
  }
 },
 "nbformat": 4,
 "nbformat_minor": 2
}
