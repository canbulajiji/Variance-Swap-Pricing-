{
 "cells": [
  {
   "cell_type": "code",
   "execution_count": 2,
   "metadata": {},
   "outputs": [],
   "source": [
    "def Phi1(T,AF,Q,Delta,Stock1,Stock2,Regime,Jump1,Jump2): \n",
    "    \n",
    "    ###############################################################################\n",
    "    #                           PARAMETER INPUT                                   #\n",
    "    ###############################################################################\n",
    "    #Stock1 = Stock(100,0.087**2,AF,0.06,0.14,3.46,0.006704,T,-0.82)\n",
    "    #Stock2 = Stock(100,0.087**2,AF,0.03,0.14,3.46,0.002852,T,-0.82)\n",
    "    #Regime = Regime2(Q);\n",
    "    #S0, y0, AF, r, sigma, a, b, N, rho, mu,sigma_J,lambda_\n",
    "    #Jump1 = Jump_Merton(100,0.087**2,AF,0.06,0.14,3.46,0.006704,T,-0.82,0.05,0.086,0.)\n",
    "    #Jump2 = Jump_Merton(100,0.087**2,AF,0.03,0.14,3.46,0.002852,T,-0.82,0.06,0.086,0.3)\n",
    "    #####################################################################################\n",
    "    # ###############################Numerical Integration########################\n",
    "    n = 10 # time step of integration\n",
    "    X = np.linspace(T-Delta,T,n+1)\n",
    "    phi1_1_2j = [];phi1_1_1j = [];phi1_1_0j = [];\n",
    "    phi1_2_2j = [];phi1_2_1j = [];phi1_2_0j = []; \n",
    "    \n",
    "    for i in range(len(X)):\n",
    "        x1 = Jump1.L(-2j,X[i]); x2=Jump1.L(-1j,X[i]);x3=Jump1.L(0,X[i]);\n",
    "        phi1_1_2j.append(x1); phi1_1_1j.append(x2); phi1_1_0j.append(x3);\n",
    "        y1 = Jump2.L(-2j,X[i]); y2=Jump2.L(-1j,X[i]);y3=Jump2.L(0,X[i]);\n",
    "        phi1_2_2j.append(y1); phi1_2_1j.append(y2);phi1_2_0j.append(y3); \n",
    "        \n",
    "        \n",
    "    phI1_1_2j = np.trapz(phi1_1_2j,dx=Delta/n);phI1_2_2j = np.trapz(phi1_2_2j,dx=Delta/n);\n",
    "    phI1_1_1j = np.trapz(phi1_1_1j,dx=Delta/n);phI1_2_1j = np.trapz(phi1_2_1j,dx=Delta/n);\n",
    "    phI1_1_0j = np.trapz(phi1_1_0j,dx=Delta/n);phI1_2_0j = np.trapz(phi1_2_0j,dx=Delta/n);\n",
    "  \n",
    "    #################################Diagonal Matrix#########################################\n",
    "    phi1_Matrix_2j = np.diag(np.array([phI1_1_2j,phI1_2_2j]));\n",
    "    phi1_Matrix_1j = np.diag(np.array([phI1_1_1j,phI1_2_1j]));\n",
    "    phi1_Matrix_0j = np.diag(np.array([phI1_1_0j,phI1_2_0j]));\n",
    "    \n",
    "    #######################Phi1_characteristic function#####################################\n",
    "    Phi1_2j = Regime.character(phi1_Matrix_2j,T-Delta,T);\n",
    "    Phi1_1j = Regime.character(phi1_Matrix_1j,T-Delta,T);\n",
    "    Phi1_0j = Regime.character(phi1_Matrix_0j,T-Delta,T);\n",
    "    return Phi1_2j, Phi1_1j, Phi1_0j"
   ]
  },
  {
   "cell_type": "code",
   "execution_count": 3,
   "metadata": {},
   "outputs": [],
   "source": [
    "def Phi2(T,AF,Q,Delta,Stock1,Stock2,Regime):\n",
    "    \n",
    "    ###############################################################################\n",
    "    #                           PARAMETER INPUT                                   #\n",
    "    ###############################################################################\n",
    "    #\n",
    "    #Stock1 = Stock(100,0.087**2,AF,0.06,0.14,3.46,0.006704,T,-0.82)# S0, y0, AF, r, sigma, a, b, N, rho\n",
    "    #Stock2 = Stock(100,0.087**2,AF,0.03,0.14,3.46,0.002852,T,-0.82)\n",
    "    #Regime = Regime2(Q);\n",
    "    #\n",
    "    ###############################################################################\n",
    "    \n",
    "    n = 10 # time step of integration\n",
    "    X = np.linspace(0,T-Delta,n+1)\n",
    "    phi2_1_2j = [];phi2_2_2j = [];\n",
    "    \n",
    "    for i in range(len(X)):\n",
    "        H1 = Stock1.H(X[i]);H2 = Stock2.H(X[i]);\n",
    "        x = Stock1.a*Stock1.b*H1;y = Stock2.a*Stock2.b*H2;\n",
    "        phi2_1_2j.append(x);phi2_2_2j.append(y);\n",
    "        #print(H1,X[i],T-Delta)\n",
    "        \n",
    "    phI2_1_2j = np.trapz(phi2_1_2j,dx=(T-Delta)/n);phI2_2_2j = np.trapz(phi2_2_2j,dx=(T-Delta)/n);\n",
    "    phi2_Matrix = np.diag(np.array([phI2_1_2j,phI2_2_2j]))\n",
    "    Phi2 = Regime.character(phi2_Matrix,0,T-Delta)\n",
    "    return Phi2,Stock1.H(0)"
   ]
  },
  {
   "cell_type": "code",
   "execution_count": 4,
   "metadata": {},
   "outputs": [],
   "source": [
    "def regime_VS(AF,Q):\n",
    "    \n",
    "    ###############################################################################\n",
    "    #                           PARAMETER INPUT                                   #\n",
    "    ###############################################################################\n",
    "    T = 1; UK = 0; U = 0; \n",
    "    Regime = Regime2(Q);\n",
    "    J = One_Path(Q,0,T)\n",
    "    for k in range(0,AF*T):\n",
    "        #Delta=1/AF\n",
    "        #t_k=(k+1)*Delta\n",
    "        #J = One_Path(Q,0,t_k)\n",
    "        uk1 = path_one(AF,Q,k)     #Is there any improvement of efficiency we can make here ?\n",
    "        uk2 = path_two(AF,Q,k)\n",
    "        UK = UK + J[0]*uk1[0]+J[1]*uk2[0]\n",
    "        #U = U + UK\n",
    "        #print(uk1[0],uk2[0],UK)\n",
    "        \n",
    "    return UK   "
   ]
  },
  {
   "cell_type": "code",
   "execution_count": 5,
   "metadata": {},
   "outputs": [],
   "source": [
    "def path_one(AF,Q,k):\n",
    "    Regime = Regime2(Q);\n",
    "    Delta = 1/AF\n",
    "    t_k = (k+1)*Delta\n",
    "    Stock1 = Stock(100,0.087**2,AF,0.03,0.14,3.46,0.002852,t_k,-0.82)# S0, y0, AF, r, sigma, a, b, T, rho\n",
    "    Stock2 = Stock(100,0.087**2,AF,0.03,0.14,3.46,0.002852,t_k,-0.82)\n",
    "    Jump1 = Jump_Merton(100,0.087**2,AF,0.03,0.14,3.46,0.002852,t_k,-0.82,0.05,0.086,0.1)\n",
    "    Jump2 = Jump_Merton(100,0.087**2,AF,0.03,0.14,3.46,0.002852,t_k,-0.82,0.05,0.086,0.1)\n",
    "    R = np.diag([np.exp(Stock1.r*Delta),np.exp(Stock2.r*Delta)])# matrix of interest rate\n",
    "    Phi1_2j,Phi1_1j,Phi1_0j =  Phi1(t_k,AF,Q,Delta,Stock1,Stock2,Regime,Jump1,Jump2) \n",
    "    Phi2_,H1 = Phi2(t_k,AF,Q,Delta,Stock1,Stock2,Regime)\n",
    "    if t_k == Delta:\n",
    "        M = Stock1.M(-2j,0)\n",
    "        uk = Phi1_2j[1]*np.exp(M*Stock1.y0)-2*Phi1_1j[1]+Phi1_0j[1]\n",
    "        #Uk = np.matmul(R,uk)\n",
    "        Uk = uk\n",
    "    else:\n",
    "        uk = np.multiply(Phi1_2j[1],Phi2_[1])*np.exp(H1*Stock1.y0)-2*Phi1_1j[1]+Phi1_0j[1]\n",
    "    return uk"
   ]
  },
  {
   "cell_type": "code",
   "execution_count": 6,
   "metadata": {},
   "outputs": [],
   "source": [
    "def path_two(AF,Q,k):\n",
    "    Regime = Regime2(Q);\n",
    "    Delta = 1/AF\n",
    "    t_k = (k+1)*Delta\n",
    "    Stock1 = Stock(100,0.087**2,AF,0.06,0.14,3.46,0.006704,t_k,-0.82)# S0, y0, AF, r, sigma, a, b, T, rho\n",
    "    Stock2 = Stock(100,0.087**2,AF,0.06,0.14,3.46,0.006704,t_k,-0.82)\n",
    "    Jump1 = Jump_Merton(100,0.087**2,AF,0.06,0.14,3.46,0.006704,t_k,-0.82,0.05,0.086,0.2)\n",
    "    Jump2 = Jump_Merton(100,0.087**2,AF,0.06,0.14,3.46,0.006704,t_k,-0.82,0.05,0.086,0.2)\n",
    "    R = np.diag([np.exp(Stock1.r*Delta),np.exp(Stock2.r*Delta)])# matrix of interest rate\n",
    "    Phi1_2j,Phi1_1j,Phi1_0j = Phi1(t_k,AF,Q,Delta,Stock1,Stock2,Regime,Jump1,Jump2) \n",
    "    Phi2_,H1 = Phi2(t_k,AF,Q,Delta,Stock1,Stock2,Regime)\n",
    "    if t_k == Delta:\n",
    "        M = Stock1.M(-2j,0)\n",
    "        uk = Phi1_2j[1]*np.exp(M*Stock1.y0)-2*Phi1_1j[1]+Phi1_0j[1]\n",
    "        #Uk = np.matmul(R,uk)\n",
    "        Uk = uk\n",
    "    else:\n",
    "        uk = np.multiply(Phi1_2j[1],Phi2_[1])*np.exp(H1*Stock1.y0)-2*Phi1_1j[1]+Phi1_0j[1]\n",
    "    return uk"
   ]
  },
  {
   "cell_type": "code",
   "execution_count": 7,
   "metadata": {},
   "outputs": [],
   "source": [
    "def One_Path(Q,j,T):\n",
    "    J = np.array([0.00,0.00]) #initialize the waiting time\n",
    "    t = T; # The maturity \n",
    "    I = j; # The initial state, choose 0 or 1\n",
    "    while (t > 0):\n",
    "        R1,R2 = np.random.uniform(0,1,2)\n",
    "        tau = np.log(R1)/Q[I,I]\n",
    "        pr = 0; m = 0;\n",
    "        while (R2 > pr):\n",
    "           # print(m,I)\n",
    "            if m != I:\n",
    "                pr = pr - Q[I,m]/Q[I,I];\n",
    "                #print(pr)\n",
    "            else:\n",
    "                m = m+1;\n",
    "\n",
    "        #print(tau,t) \n",
    "        if tau > t:\n",
    "            J[I] = J[I]+t\n",
    "            #print(J,I,t)\n",
    "        else:\n",
    "            J[I] = J[I]+tau\n",
    "        t = t-tau; I = m;\n",
    "    return J\n"
   ]
  },
  {
   "cell_type": "code",
   "execution_count": 8,
   "metadata": {},
   "outputs": [],
   "source": [
    "# final main()\n",
    "def semi_MC():\n",
    "    Kvar = []\n",
    "    AF = range(5,251,25)\n",
    "    #AF = 10\n",
    "    X = list(AF)\n",
    "    Q = np.array([[-0.1,0.1],[0.4,-0.4]])\n",
    "    # calculate discrete sols based AF\n",
    "    for i in AF:\n",
    "        Kvar_d = regime_VS(i,Q)\n",
    "        #K_d = np.real(Kvar_d)\n",
    "        Kvar.append(Kvar_d*10000)\n",
    "    return  Kvar"
   ]
  },
  {
   "cell_type": "code",
   "execution_count": 9,
   "metadata": {},
   "outputs": [
    {
     "name": "stdout",
     "output_type": "stream",
     "text": [
      "[55.89294645+0.j 28.08952419+0.j 26.20459365+0.j 25.5171422 +0.j\n",
      " 25.16285018+0.j 24.93906874+0.j 24.80506733+0.j 24.69363963+0.j\n",
      " 24.60994339+0.j 24.55518979+0.j]\n"
     ]
    }
   ],
   "source": [
    "from VS_class2 import Stock, Regime2, Jump_Merton, Jump_Kou\n",
    "import matplotlib.pyplot as plt\n",
    "import numpy as np\n",
    "import math\n",
    "from scipy import linalg\n",
    "\n",
    "Kvar = []\n",
    "# generate 1000 sample paths\n",
    "for m in range(10000):\n",
    "    K = semi_MC()\n",
    "    Kvar.append(K)\n",
    "# evaluate the mean   \n",
    "K = np.mean(np.array(Kvar),axis=0)\n",
    "Outfile=open('Kvar_s.txt','a+')# write out the solution in txt file automatically\n",
    "Outfile.write(str(K))\n",
    "Outfile.close()    \n",
    "print(K)"
   ]
  },
  {
   "cell_type": "code",
   "execution_count": 27,
   "metadata": {},
   "outputs": [],
   "source": [
    "# import pandas as ps\n",
    "# import matplotlib.pyplot as plt\n",
    "# yields = ps.read_csv('Book11.csv')\n",
    "# yields2 = ps.read_csv('Book12.csv')\n",
    "# plt.plot(yields['X'],yields['Kvar1'])\n",
    "# plt.scatter(yields2['X'],yields2['Kvar1'])\n",
    "# plt.show()"
   ]
  },
  {
   "cell_type": "code",
   "execution_count": 28,
   "metadata": {},
   "outputs": [
    {
     "name": "stdout",
     "output_type": "stream",
     "text": [
      "[5, 30, 55, 80, 105, 130, 155, 180, 205, 230]\n"
     ]
    }
   ],
   "source": [
    "AF = range(5,251,25)\n",
    "print(list(AF))"
   ]
  },
  {
   "cell_type": "code",
   "execution_count": null,
   "metadata": {
    "collapsed": true
   },
   "outputs": [],
   "source": [
    "\n"
   ]
  },
  {
   "cell_type": "code",
   "execution_count": null,
   "metadata": {
    "collapsed": true
   },
   "outputs": [],
   "source": []
  }
 ],
 "metadata": {
  "kernelspec": {
   "display_name": "Python 3",
   "language": "python",
   "name": "python3"
  },
  "language_info": {
   "codemirror_mode": {
    "name": "ipython",
    "version": 3
   },
   "file_extension": ".py",
   "mimetype": "text/x-python",
   "name": "python",
   "nbconvert_exporter": "python",
   "pygments_lexer": "ipython3",
   "version": "3.6.9"
  }
 },
 "nbformat": 4,
 "nbformat_minor": 2
}
