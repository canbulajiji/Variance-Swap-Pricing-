{
 "cells": [
  {
   "cell_type": "code",
   "execution_count": 6,
   "metadata": {},
   "outputs": [
    {
     "name": "stdout",
     "output_type": "stream",
     "text": [
      "[[0.92130613 0.07869387]\n",
      " [0.31477547 0.68522453]]\n"
     ]
    }
   ],
   "source": [
    "import quantecon as qe\n",
    "import numpy as np\n",
    "from scipy import linalg\n",
    "Q = [[-0.1,0.1],[0.4,-0.4]]\n",
    "P = linalg.expm(Q)\n",
    "print(P)\n",
    "#generate probability matrix from the transition matrix"
   ]
  },
  {
   "cell_type": "code",
   "execution_count": 7,
   "metadata": {},
   "outputs": [
    {
     "name": "stdout",
     "output_type": "stream",
     "text": [
      "    Kvar_Good    Kvar_Bad  KvarR_Good   KvarR_Bad   Con_Good    Con_Bad\n",
      "0  184.748666  100.090624  183.419525  105.343590  89.066575  51.540978\n",
      "1  135.808700   74.084879  134.874877   77.823299  89.066575  51.540978\n",
      "2  120.779125   66.612284  119.932732   70.009430  89.066575  51.540978\n",
      "3  113.469474   63.066819  112.658254   66.324174  89.066575  51.540978\n",
      "4  109.145279   60.996868  108.352400   64.180254  89.066575  51.540978\n"
     ]
    }
   ],
   "source": [
    "import pandas as ps\n",
    "ff = open('Compare3.csv', 'r')\n",
    "yields = ps.read_csv('Compare3.csv')\n",
    "print(yields.head())"
   ]
  },
  {
   "cell_type": "code",
   "execution_count": 30,
   "metadata": {},
   "outputs": [
    {
     "name": "stdout",
     "output_type": "stream",
     "text": [
      "0     167.673139\n",
      "1     123.359005\n",
      "2     109.853673\n",
      "3     103.303258\n",
      "4      99.433745\n",
      "5      96.878498\n",
      "6      95.065017\n",
      "7      93.711202\n",
      "8      92.661922\n",
      "9      91.824799\n",
      "10     91.141391\n",
      "11     90.572916\n",
      "12     90.092629\n",
      "13     89.681484\n",
      "14     89.325553\n",
      "15     89.014413\n",
      "16     88.740109\n",
      "17     88.496465\n",
      "18     88.278613\n",
      "19     88.082662\n",
      "20     87.905468\n",
      "21     87.744461\n",
      "22     87.597520\n",
      "23     87.462878\n",
      "24     87.339054\n",
      "25     87.224793\n",
      "26     87.119030\n",
      "27     87.020849\n",
      "28     86.929465\n",
      "29     86.844195\n",
      "30     86.764444\n",
      "31     86.689695\n",
      "32     86.619490\n",
      "33     86.553428\n",
      "34     86.491153\n",
      "35     86.432347\n",
      "36     86.376729\n",
      "37     86.324047\n",
      "38     86.274073\n",
      "39     86.226605\n",
      "40     86.181459\n",
      "41     86.138467\n",
      "42     86.097480\n",
      "43     86.058361\n",
      "44     86.020984\n",
      "45     85.985236\n",
      "46     85.951013\n",
      "47     85.918219\n",
      "48     85.886766\n",
      "49     85.856574\n",
      "Name: Kvar_Good, dtype: float64\n"
     ]
    }
   ],
   "source": [
    "#def Semi_mc(P): \n",
    "mc = qe.MarkovChain(P, state_values=(0, 1))\n",
    "Status = mc.simulate(ts_length=10000, init=0)\n",
    "#print(Status)\n",
    "Kvar = np.zeros(50)\n",
    "#KK = []\n",
    "for s in Status:\n",
    "    if s == 0:\n",
    "        K = yields['Kvar_Good'];\n",
    "    else:\n",
    "        K = yields['Kvar_Bad'];\n",
    "    #KK.append(K)\n",
    "    Kvar += K\n",
    "    \n",
    "\n",
    "#return Kvar/len(Status) \n",
    "print(Kvar/len(Status))\n",
    "#print(KK)"
   ]
  },
  {
   "cell_type": "code",
   "execution_count": 9,
   "metadata": {},
   "outputs": [
    {
     "name": "stdout",
     "output_type": "stream",
     "text": [
      "   Kvar_S   Kvar_D  Kvar_C  AF\n",
      "0  205.02  241.684   74.63   5\n",
      "1  142.93  163.799   74.63  10\n",
      "2  123.67  137.298   74.63  15\n",
      "3  114.27  123.904   74.63  20\n",
      "4  108.69  115.817   74.63  25\n"
     ]
    }
   ],
   "source": [
    "ff = open('compare.csv', 'r')\n",
    "compare = ps.read_csv('compare.csv')\n",
    "print(compare.head())"
   ]
  },
  {
   "cell_type": "code",
   "execution_count": 11,
   "metadata": {},
   "outputs": [
    {
     "data": {
      "image/png": "[encoded data removed]",
      "text/plain": [
       "<Figure size 432x288 with 1 Axes>"
      ]
     },
     "metadata": {
      "needs_background": "light"
     },
     "output_type": "display_data"
    }
   ],
   "source": [
    "import matplotlib.pyplot as plt\n",
    "X = np.linspace(5,200,40)\n",
    "fig, ax = plt.subplots(1)\n",
    "ax.scatter(X, compare['Kvar_S'], marker='*',label='Semi-Monte Carlo')\n",
    "# #ax.plot(X, K_c[0], color='green',label='Continuous Kvar without jump')\n",
    "ax.plot(X, compare['Kvar_D'], color='darkblue',linestyle='solid', \\\n",
    "         linewidth=2,ms=5,label='Discrete Model')\n",
    "# #ax.plot(X, K_c[0], color='green',label='Continuous Kvar without jump')\n",
    "ax.plot(X, compare['Kvar_C'], color='violet', linestyle=':', \\\n",
    "         linewidth=2,ms=5,label='Continuous Model')\n",
    "\n",
    "ax.set_xlim(5, 200)\n",
    "plt.xlabel('Observation Frequency')\n",
    "plt.ylabel('Kvar')\n",
    "ax.legend(fancybox=True, framealpha=0.5)\n",
    "\n",
    "# plt.title(\"Simple Plot\")\n",
    "\n",
    "plt.savefig('Compare_methods.pdf', format='pdf', dpi=1000)\n",
    "plt.show()"
   ]
  },
  {
   "cell_type": "code",
   "execution_count": null,
   "metadata": {},
   "outputs": [],
   "source": []
  },
  {
   "cell_type": "code",
   "execution_count": null,
   "metadata": {},
   "outputs": [],
   "source": []
  }
 ],
 "metadata": {
  "kernelspec": {
   "display_name": "Python 3",
   "language": "python",
   "name": "python3"
  }
 },
 "nbformat": 4,
 "nbformat_minor": 2
}
